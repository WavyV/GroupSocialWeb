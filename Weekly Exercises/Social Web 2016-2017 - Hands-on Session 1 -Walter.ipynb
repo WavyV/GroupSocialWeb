{
 "cells": [
  {
   "cell_type": "markdown",
   "metadata": {},
   "source": [
    "*****************************************************************\n",
    "#  The Social Web \t\t\t\t    \n",
    "##  2016-2017 Master Information Sciences\t    \n",
    "- Instructors Davide Ceolin, Cristina Bucur\n",
    "- Exercises for Hands-on session 1\n",
    "- 9 February 2017 11:00 - 12:45                 \n",
    "- HG-0B-08 -- HG-0B-16                              \n",
    "*****************************************************************"
   ]
  },
  {
   "cell_type": "markdown",
   "metadata": {},
   "source": [
    "Prerequisites:\n",
    "- Python 2.7\n",
    "- Python packages: twitter, prettytable, numpy (SEE BELOW), python-dateutil, pyparsing, matplotlib\n",
    "\n",
    "First you need to know how to retrieve some social web data. Exercises 1 and 2 will show you how to retrieve trends and search results from Twitter. \n",
    "\n",
    "Exercise 1: Authorizing an application to access Twitter account data (from Example 1-1/9-1 in Mining the Social Web):\n",
    "\n",
    "******************************************************************************\n",
    "#### TO DO BEFORE STARTING!!! \n",
    " Go to https://apps.twitter.com/ and sign in with a twitter account to create an app and get values for the credentials mentioned below, which you'll need to provide in place of the empty string values that are defined as placeholders. If you don't have a Twitter account, create one first. NB: YOU WILL HAVE TO REGISTER YOUR MOBILE PHONE     \n",
    " NUMBER IN YOUR PROFILE BEFORE YOU CAN CREATE AN APP.                  \n",
    "******************************************************************************\n",
    "\n",
    "After creating the app, click 'manage keys and access tokens' on the resulting page. "
   ]
  },
  {
   "cell_type": "code",
   "execution_count": 1,
   "metadata": {},
   "outputs": [],
   "source": [
    "import twitter\n",
    "import prettytable\n",
    "import numpy as np\n",
    "import dateutil\n",
    "import pyparsing\n",
    "import matplotlib as plt"
   ]
  },
  {
   "cell_type": "code",
   "execution_count": 2,
   "metadata": {},
   "outputs": [
    {
     "name": "stdout",
     "output_type": "stream",
     "text": [
      "<twitter.api.Twitter object at 0x000001DA56E709E8>\n"
     ]
    }
   ],
   "source": [
    "CONSUMER_KEY = 'WzduDu59Yhz0MiuW1vfjwesY5'\n",
    "CONSUMER_SECRET = '3Lx1hawhiLa1GBx3yYhSHMgwYykj9vtF3kFhjiCMF60Rww8c8U'\n",
    "OAUTH_TOKEN = '960534654666321921-IX3Hr8IpjI8Lh5SWhqW3yP4LcT1JLzx' # to get the oauth credential you need to click on the 'Create my access token' button and wait few moments\n",
    "OAUTH_TOKEN_SECRET = 'DfazIssz4ZqIBXiGkzLbfDXbcCIvM796Vb1Yk1eRnrTe1'\n",
    "auth = twitter.oauth.OAuth(OAUTH_TOKEN, OAUTH_TOKEN_SECRET,CONSUMER_KEY, CONSUMER_SECRET)\n",
    "twitter_api = twitter.Twitter(auth=auth)\n",
    "print(twitter_api) # Nothing to see by displaying twitter_api except that it's now a defined variable"
   ]
  },
  {
   "cell_type": "markdown",
   "metadata": {},
   "source": [
    "Exercise 2: Retrieving twitter search trends (from Example 1-2/9-2 in Mining the Social Web):"
   ]
  },
  {
   "cell_type": "code",
   "execution_count": 3,
   "metadata": {},
   "outputs": [
    {
     "name": "stdout",
     "output_type": "stream",
     "text": [
      "[{'trends': [{'name': '#مليونيره_تبحث_عن_زوج', 'url': 'http://twitter.com/search?q=%23%D9%85%D9%84%D9%8A%D9%88%D9%86%D9%8A%D8%B1%D9%87_%D8%AA%D8%A8%D8%AD%D8%AB_%D8%B9%D9%86_%D8%B2%D9%88%D8%AC', 'promoted_content': None, 'query': '%23%D9%85%D9%84%D9%8A%D9%88%D9%86%D9%8A%D8%B1%D9%87_%D8%AA%D8%A8%D8%AD%D8%AB_%D8%B9%D9%86_%D8%B2%D9%88%D8%AC', 'tweet_volume': None}, {'name': '#FelizJueves', 'url': 'http://twitter.com/search?q=%23FelizJueves', 'promoted_content': None, 'query': '%23FelizJueves', 'tweet_volume': None}, {'name': '#みんな自分の名前をパワーアップしようぜ', 'url': 'http://twitter.com/search?q=%23%E3%81%BF%E3%82%93%E3%81%AA%E8%87%AA%E5%88%86%E3%81%AE%E5%90%8D%E5%89%8D%E3%82%92%E3%83%91%E3%83%AF%E3%83%BC%E3%82%A2%E3%83%83%E3%83%97%E3%81%97%E3%82%88%E3%81%86%E3%81%9C', 'promoted_content': None, 'query': '%23%E3%81%BF%E3%82%93%E3%81%AA%E8%87%AA%E5%88%86%E3%81%AE%E5%90%8D%E5%89%8D%E3%82%92%E3%83%91%E3%83%AF%E3%83%BC%E3%82%A2%E3%83%83%E3%83%97%E3%81%97%E3%82%88%E3%81%86%E3%81%9C', 'tweet_volume': 19848}, {'name': '#حلول_البطاله_في_نظرك', 'url': 'http://twitter.com/search?q=%23%D8%AD%D9%84%D9%88%D9%84_%D8%A7%D9%84%D8%A8%D8%B7%D8%A7%D9%84%D9%87_%D9%81%D9%8A_%D9%86%D8%B8%D8%B1%D9%83', 'promoted_content': None, 'query': '%23%D8%AD%D9%84%D9%88%D9%84_%D8%A7%D9%84%D8%A8%D8%B7%D8%A7%D9%84%D9%87_%D9%81%D9%8A_%D9%86%D8%B8%D8%B1%D9%83', 'tweet_volume': None}, {'name': '#الخميس_الونيس', 'url': 'http://twitter.com/search?q=%23%D8%A7%D9%84%D8%AE%D9%85%D9%8A%D8%B3_%D8%A7%D9%84%D9%88%D9%86%D9%8A%D8%B3', 'promoted_content': None, 'query': '%23%D8%A7%D9%84%D8%AE%D9%85%D9%8A%D8%B3_%D8%A7%D9%84%D9%88%D9%86%D9%8A%D8%B3', 'tweet_volume': 25419}, {'name': 'Anna Gabriel', 'url': 'http://twitter.com/search?q=%22Anna+Gabriel%22', 'promoted_content': None, 'query': '%22Anna+Gabriel%22', 'tweet_volume': None}, {'name': '舞台化', 'url': 'http://twitter.com/search?q=%E8%88%9E%E5%8F%B0%E5%8C%96', 'promoted_content': None, 'query': '%E8%88%9E%E5%8F%B0%E5%8C%96', 'tweet_volume': 33963}, {'name': 'John Humphrys', 'url': 'http://twitter.com/search?q=%22John+Humphrys%22', 'promoted_content': None, 'query': '%22John+Humphrys%22', 'tweet_volume': None}, {'name': 'Nicolas Hulot', 'url': 'http://twitter.com/search?q=%22Nicolas+Hulot%22', 'promoted_content': None, 'query': '%22Nicolas+Hulot%22', 'tweet_volume': None}, {'name': '緊急支援募金', 'url': 'http://twitter.com/search?q=%E7%B7%8A%E6%80%A5%E6%94%AF%E6%8F%B4%E5%8B%9F%E9%87%91', 'promoted_content': None, 'query': '%E7%B7%8A%E6%80%A5%E6%94%AF%E6%8F%B4%E5%8B%9F%E9%87%91', 'tweet_volume': None}, {'name': 'Khaleda Zia', 'url': 'http://twitter.com/search?q=%22Khaleda+Zia%22', 'promoted_content': None, 'query': '%22Khaleda+Zia%22', 'tweet_volume': None}, {'name': 'Julio Verne', 'url': 'http://twitter.com/search?q=%22Julio+Verne%22', 'promoted_content': None, 'query': '%22Julio+Verne%22', 'tweet_volume': None}, {'name': 'MPC로', 'url': 'http://twitter.com/search?q=MPC%EB%A1%9C', 'promoted_content': None, 'query': 'MPC%EB%A1%9C', 'tweet_volume': None}, {'name': 'Happy Rainbow Box', 'url': 'http://twitter.com/search?q=%22Happy+Rainbow+Box%22', 'promoted_content': None, 'query': '%22Happy+Rainbow+Box%22', 'tweet_volume': None}, {'name': '신연희', 'url': 'http://twitter.com/search?q=%EC%8B%A0%EC%97%B0%ED%9D%AC', 'promoted_content': None, 'query': '%EC%8B%A0%EC%97%B0%ED%9D%AC', 'tweet_volume': None}, {'name': 'Halil Umut Meler', 'url': 'http://twitter.com/search?q=%22Halil+Umut+Meler%22', 'promoted_content': None, 'query': '%22Halil+Umut+Meler%22', 'tweet_volume': None}, {'name': \"Muhtarlar Toplantısı'nda\", 'url': 'http://twitter.com/search?q=%22Muhtarlar+Toplant%C4%B1s%C4%B1%27nda%22', 'promoted_content': None, 'query': '%22Muhtarlar+Toplant%C4%B1s%C4%B1%27nda%22', 'tweet_volume': None}, {'name': '#ThursdayThoughts', 'url': 'http://twitter.com/search?q=%23ThursdayThoughts', 'promoted_content': None, 'query': '%23ThursdayThoughts', 'tweet_volume': 14809}, {'name': '#تغريده_لشخص_خانك', 'url': 'http://twitter.com/search?q=%23%D8%AA%D8%BA%D8%B1%D9%8A%D8%AF%D9%87_%D9%84%D8%B4%D8%AE%D8%B5_%D8%AE%D8%A7%D9%86%D9%83', 'promoted_content': None, 'query': '%23%D8%AA%D8%BA%D8%B1%D9%8A%D8%AF%D9%87_%D9%84%D8%B4%D8%AE%D8%B5_%D8%AE%D8%A7%D9%86%D9%83', 'tweet_volume': None}, {'name': '#BugüneBenden1Söz', 'url': 'http://twitter.com/search?q=%23Bug%C3%BCneBenden1S%C3%B6z', 'promoted_content': None, 'query': '%23Bug%C3%BCneBenden1S%C3%B6z', 'tweet_volume': None}, {'name': '#WhyImSingle', 'url': 'http://twitter.com/search?q=%23WhyImSingle', 'promoted_content': None, 'query': '%23WhyImSingle', 'tweet_volume': 92981}, {'name': '#الهلال_النصر', 'url': 'http://twitter.com/search?q=%23%D8%A7%D9%84%D9%87%D9%84%D8%A7%D9%84_%D8%A7%D9%84%D9%86%D8%B5%D8%B1', 'promoted_content': None, 'query': '%23%D8%A7%D9%84%D9%87%D9%84%D8%A7%D9%84_%D8%A7%D9%84%D9%86%D8%B5%D8%B1', 'tweet_volume': 83542}, {'name': '#TlustyCzwartek', 'url': 'http://twitter.com/search?q=%23TlustyCzwartek', 'promoted_content': None, 'query': '%23TlustyCzwartek', 'tweet_volume': None}, {'name': '#neuRac1', 'url': 'http://twitter.com/search?q=%23neuRac1', 'promoted_content': None, 'query': '%23neuRac1', 'tweet_volume': None}, {'name': '#Türkiyedir', 'url': 'http://twitter.com/search?q=%23T%C3%BCrkiyedir', 'promoted_content': None, 'query': '%23T%C3%BCrkiyedir', 'tweet_volume': None}, {'name': '#IzalRadio3', 'url': 'http://twitter.com/search?q=%23IzalRadio3', 'promoted_content': None, 'query': '%23IzalRadio3', 'tweet_volume': None}, {'name': '#8febbraio', 'url': 'http://twitter.com/search?q=%238febbraio', 'promoted_content': None, 'query': '%238febbraio', 'tweet_volume': None}, {'name': '#HumanOrgs', 'url': 'http://twitter.com/search?q=%23HumanOrgs', 'promoted_content': None, 'query': '%23HumanOrgs', 'tweet_volume': None}, {'name': '#OTDirecto8F', 'url': 'http://twitter.com/search?q=%23OTDirecto8F', 'promoted_content': None, 'query': '%23OTDirecto8F', 'tweet_volume': None}, {'name': '#videomobile', 'url': 'http://twitter.com/search?q=%23videomobile', 'promoted_content': None, 'query': '%23videomobile', 'tweet_volume': None}, {'name': '#Ayodhya', 'url': 'http://twitter.com/search?q=%23Ayodhya', 'promoted_content': None, 'query': '%23Ayodhya', 'tweet_volume': None}, {'name': '#ReplaceTitleWithPączek', 'url': 'http://twitter.com/search?q=%23ReplaceTitleWithP%C4%85czek', 'promoted_content': None, 'query': '%23ReplaceTitleWithP%C4%85czek', 'tweet_volume': None}, {'name': '#TripuraWithModi', 'url': 'http://twitter.com/search?q=%23TripuraWithModi', 'promoted_content': None, 'query': '%23TripuraWithModi', 'tweet_volume': None}, {'name': '#Karneval', 'url': 'http://twitter.com/search?q=%23Karneval', 'promoted_content': None, 'query': '%23Karneval', 'tweet_volume': None}, {'name': '#MüzeyyenSenar', 'url': 'http://twitter.com/search?q=%23M%C3%BCzeyyenSenar', 'promoted_content': None, 'query': '%23M%C3%BCzeyyenSenar', 'tweet_volume': None}, {'name': '#ProposeDay', 'url': 'http://twitter.com/search?q=%23ProposeDay', 'promoted_content': None, 'query': '%23ProposeDay', 'tweet_volume': None}, {'name': '#JagjitSingh', 'url': 'http://twitter.com/search?q=%23JagjitSingh', 'promoted_content': None, 'query': '%23JagjitSingh', 'tweet_volume': None}, {'name': '#ExperienceHyundai', 'url': 'http://twitter.com/search?q=%23ExperienceHyundai', 'promoted_content': None, 'query': '%23ExperienceHyundai', 'tweet_volume': 10816}, {'name': '#KementanPanenRaya', 'url': 'http://twitter.com/search?q=%23KementanPanenRaya', 'promoted_content': None, 'query': '%23KementanPanenRaya', 'tweet_volume': None}, {'name': '#LowLightProGH5S', 'url': 'http://twitter.com/search?q=%23LowLightProGH5S', 'promoted_content': None, 'query': '%23LowLightProGH5S', 'tweet_volume': None}, {'name': '#JeStresseQuand', 'url': 'http://twitter.com/search?q=%23JeStresseQuand', 'promoted_content': None, 'query': '%23JeStresseQuand', 'tweet_volume': None}, {'name': '#LaCafeteraTeresaRguez', 'url': 'http://twitter.com/search?q=%23LaCafeteraTeresaRguez', 'promoted_content': None, 'query': '%23LaCafeteraTeresaRguez', 'tweet_volume': None}, {'name': '#UnboxNewChoice', 'url': 'http://twitter.com/search?q=%23UnboxNewChoice', 'promoted_content': None, 'query': '%23UnboxNewChoice', 'tweet_volume': None}, {'name': '#おねだりチョコ', 'url': 'http://twitter.com/search?q=%23%E3%81%8A%E3%81%AD%E3%81%A0%E3%82%8A%E3%83%81%E3%83%A7%E3%82%B3', 'promoted_content': None, 'query': '%23%E3%81%8A%E3%81%AD%E3%81%A0%E3%82%8A%E3%83%81%E3%83%A7%E3%82%B3', 'tweet_volume': 11550}, {'name': '#CSVetting', 'url': 'http://twitter.com/search?q=%23CSVetting', 'promoted_content': None, 'query': '%23CSVetting', 'tweet_volume': None}, {'name': '#DíganleACupidoQue', 'url': 'http://twitter.com/search?q=%23D%C3%ADganleACupidoQue', 'promoted_content': None, 'query': '%23D%C3%ADganleACupidoQue', 'tweet_volume': 21314}, {'name': '#AskECB', 'url': 'http://twitter.com/search?q=%23AskECB', 'promoted_content': None, 'query': '%23AskECB', 'tweet_volume': None}, {'name': '#UpgradeKar', 'url': 'http://twitter.com/search?q=%23UpgradeKar', 'promoted_content': None, 'query': '%23UpgradeKar', 'tweet_volume': None}, {'name': '#PESBUKERSARTISPAMER', 'url': 'http://twitter.com/search?q=%23PESBUKERSARTISPAMER', 'promoted_content': None, 'query': '%23PESBUKERSARTISPAMER', 'tweet_volume': None}, {'name': '#ACSVersace', 'url': 'http://twitter.com/search?q=%23ACSVersace', 'promoted_content': None, 'query': '%23ACSVersace', 'tweet_volume': 11769}], 'as_of': '2018-02-08T10:03:19Z', 'created_at': '2018-02-08T09:57:36Z', 'locations': [{'name': 'Worldwide', 'woeid': 1}]}]\n"
     ]
    }
   ],
   "source": [
    "WORLD_WOE_ID = 1 # The Yahoo! Where On Earth ID for the entire world\n",
    "world_trends = twitter_api.trends.place(_id=WORLD_WOE_ID) # get back a callable\n",
    "print(world_trends)"
   ]
  },
  {
   "cell_type": "markdown",
   "metadata": {},
   "source": [
    "Your output should look like something like this:\n",
    "[{u'created_at': u'2014-01-22T13:52:40Z', u'trends': [{u'url': u'http://twitter.com/search?q=%22Iqbal+CJR%22', u'query': u'%22Iqbal+CJR%22', u'name': u'Iqbal CJR', u'promoted_content': None, u'events': None}, {u'url': u'http://twitter.com/search?q=%23QueremosP9NaEliana', u'query': u'%23QueremosP9NaEliana', u'name': u'#QueremosP9NaEliana', u'promoted_content': None, u'events': None}, {u'url': u'http://twitter.com/search?q=%23PresidenSobatIndonesia', u'query': u'%23PresidenSobatIndonesia', u'name': u'#PresidenSobatIndonesia', u'promoted_content': None, u'events': None}, {u'url': u'http://twitter.com/search?q=%23CrushKitaKaso', u'query': u'%23CrushKitaKaso', u'name': u'#CrushKitaKaso', u'promoted_content': None, u'events': None}, {u'url': u'http://twitter.com/search?q=%233FlasherNobitaNioners', u'query': u'%233FlasherNobitaNioners', u'name': u'#3FlasherNobitaNioners', u'promoted_content': None, u'events': None}, {u'url': u'http://twitter.com/search?q=%23bagasrdsREPLY', u'query': u'%23bagasrdsREPLY', u'name': u'#bagasrdsREPLY', u'promoted_content': None, u'events': None}, {u'url': u'http://twitter.com/search?q=%22Warna+HPmu%22', u'query': u'%22Warna+HPmu%22', u'name': u'Warna HPmu', u'promoted_content': None, u'events': None}, {u'url': u'http://twitter.com/search?q=%22AkDe%C4%9Fil+Karanl%C4%B1k%C4%B0%C5%9FlerinPartisi%22', u'query': u'%22AkDe%C4%9Fil+Karanl%C4%B1k%C4%B0%C5%9FlerinPartisi%22', u'name': u'AkDe\\u011fil Karanl\\u0131k\\u0130\\u015flerinPartisi', u'promoted_content': None, u'events': None}, {u'url': u'http://twitter.com/search?q=Abueva', u'query': u'Abueva', u'name': u'Abueva', u'promoted_content': None, u'events': None}, {u'url': u'http://twitter.com/search?q=%22YesOrNo+PengenTinggian%22', u'query': u'%22YesOrNo+PengenTinggian%22', u'name': u'YesOrNo PengenTinggian', u'promoted_content': None, u'events': None}], u'as_of': u'2014-01-22T13:55:54Z', u'locations': [{u'woeid': 1, u'name': u'Worldwide'}]}]\n",
    "******************************************************************************\n",
    "\n",
    "Task 1: Find out how WORLD_WOE_IDs are defined by Yahoo and try to use others in a query. What kind of differences do you find between the worldwide trends and the local trends? \n",
    "\n",
    "-------------------------------------------------------------------------------"
   ]
  },
  {
   "cell_type": "code",
   "execution_count": 4,
   "metadata": {},
   "outputs": [
    {
     "name": "stdout",
     "output_type": "stream",
     "text": [
      "[{'trends': [{'name': '#Holleeder', 'url': 'http://twitter.com/search?q=%23Holleeder', 'promoted_content': None, 'query': '%23Holleeder', 'tweet_volume': None}, {'name': '#nrclive', 'url': 'http://twitter.com/search?q=%23nrclive', 'promoted_content': None, 'query': '%23nrclive', 'tweet_volume': None}, {'name': 'Marco Kroon', 'url': 'http://twitter.com/search?q=%22Marco+Kroon%22', 'promoted_content': None, 'query': '%22Marco+Kroon%22', 'tweet_volume': None}, {'name': '#rodaja', 'url': 'http://twitter.com/search?q=%23rodaja', 'promoted_content': None, 'query': '%23rodaja', 'tweet_volume': None}, {'name': 'Sinterklaas', 'url': 'http://twitter.com/search?q=Sinterklaas', 'promoted_content': None, 'query': 'Sinterklaas', 'tweet_volume': None}, {'name': '#NACher', 'url': 'http://twitter.com/search?q=%23NACher', 'promoted_content': None, 'query': '%23NACher', 'tweet_volume': None}, {'name': 'Kerkrade', 'url': 'http://twitter.com/search?q=Kerkrade', 'promoted_content': None, 'query': 'Kerkrade', 'tweet_volume': None}, {'name': 'Quincy Jones', 'url': 'http://twitter.com/search?q=%22Quincy+Jones%22', 'promoted_content': None, 'query': '%22Quincy+Jones%22', 'tweet_volume': 231366}, {'name': 'Ziyech', 'url': 'http://twitter.com/search?q=Ziyech', 'promoted_content': None, 'query': 'Ziyech', 'tweet_volume': None}, {'name': '#Lucebert', 'url': 'http://twitter.com/search?q=%23Lucebert', 'promoted_content': None, 'query': '%23Lucebert', 'tweet_volume': None}, {'name': 'Barth', 'url': 'http://twitter.com/search?q=Barth', 'promoted_content': None, 'query': 'Barth', 'tweet_volume': None}, {'name': 'Damrak', 'url': 'http://twitter.com/search?q=Damrak', 'promoted_content': None, 'query': 'Damrak', 'tweet_volume': None}, {'name': 'Excelsior', 'url': 'http://twitter.com/search?q=Excelsior', 'promoted_content': None, 'query': 'Excelsior', 'tweet_volume': 11366}, {'name': 'Snapchat', 'url': 'http://twitter.com/search?q=Snapchat', 'promoted_content': None, 'query': 'Snapchat', 'tweet_volume': 955942}, {'name': 'Zuuje', 'url': 'http://twitter.com/search?q=Zuuje', 'promoted_content': None, 'query': 'Zuuje', 'tweet_volume': None}, {'name': 'Ruud Vormer', 'url': 'http://twitter.com/search?q=%22Ruud+Vormer%22', 'promoted_content': None, 'query': '%22Ruud+Vormer%22', 'tweet_volume': None}, {'name': '#Puls2018', 'url': 'http://twitter.com/search?q=%23Puls2018', 'promoted_content': None, 'query': '%23Puls2018', 'tweet_volume': None}, {'name': '#EnergyUp', 'url': 'http://twitter.com/search?q=%23EnergyUp', 'promoted_content': None, 'query': '%23EnergyUp', 'tweet_volume': None}, {'name': '#fos18', 'url': 'http://twitter.com/search?q=%23fos18', 'promoted_content': None, 'query': '%23fos18', 'tweet_volume': None}, {'name': '#feygro', 'url': 'http://twitter.com/search?q=%23feygro', 'promoted_content': None, 'query': '%23feygro', 'tweet_volume': None}, {'name': '#vorst', 'url': 'http://twitter.com/search?q=%23vorst', 'promoted_content': None, 'query': '%23vorst', 'tweet_volume': None}, {'name': '#r1jn', 'url': 'http://twitter.com/search?q=%23r1jn', 'promoted_content': None, 'query': '%23r1jn', 'tweet_volume': None}, {'name': '#Olympics', 'url': 'http://twitter.com/search?q=%23Olympics', 'promoted_content': None, 'query': '%23Olympics', 'tweet_volume': 13017}, {'name': '#PSVEXC', 'url': 'http://twitter.com/search?q=%23PSVEXC', 'promoted_content': None, 'query': '%23PSVEXC', 'tweet_volume': None}, {'name': '#tweaz', 'url': 'http://twitter.com/search?q=%23tweaz', 'promoted_content': None, 'query': '%23tweaz', 'tweet_volume': None}, {'name': '#wilvvv', 'url': 'http://twitter.com/search?q=%23wilvvv', 'promoted_content': None, 'query': '%23wilvvv', 'tweet_volume': None}, {'name': '#gasdebat', 'url': 'http://twitter.com/search?q=%23gasdebat', 'promoted_content': None, 'query': '%23gasdebat', 'tweet_volume': None}, {'name': '#IPON2018', 'url': 'http://twitter.com/search?q=%23IPON2018', 'promoted_content': None, 'query': '%23IPON2018', 'tweet_volume': None}, {'name': '#FalconHeavy', 'url': 'http://twitter.com/search?q=%23FalconHeavy', 'promoted_content': None, 'query': '%23FalconHeavy', 'tweet_volume': 97979}, {'name': '#EurovisionYouDecide', 'url': 'http://twitter.com/search?q=%23EurovisionYouDecide', 'promoted_content': None, 'query': '%23EurovisionYouDecide', 'tweet_volume': 29251}, {'name': '#SpaceX', 'url': 'http://twitter.com/search?q=%23SpaceX', 'promoted_content': None, 'query': '%23SpaceX', 'tweet_volume': 33169}, {'name': '#BaudetIsRacist', 'url': 'http://twitter.com/search?q=%23BaudetIsRacist', 'promoted_content': None, 'query': '%23BaudetIsRacist', 'tweet_volume': None}, {'name': '#VSK2018', 'url': 'http://twitter.com/search?q=%23VSK2018', 'promoted_content': None, 'query': '%23VSK2018', 'tweet_volume': None}, {'name': '#DubaiTour', 'url': 'http://twitter.com/search?q=%23DubaiTour', 'promoted_content': None, 'query': '%23DubaiTour', 'tweet_volume': None}, {'name': '#RTLLN', 'url': 'http://twitter.com/search?q=%23RTLLN', 'promoted_content': None, 'query': '%23RTLLN', 'tweet_volume': None}, {'name': '#carnavalvrij', 'url': 'http://twitter.com/search?q=%23carnavalvrij', 'promoted_content': None, 'query': '%23carnavalvrij', 'tweet_volume': None}, {'name': '#Donar', 'url': 'http://twitter.com/search?q=%23Donar', 'promoted_content': None, 'query': '%23Donar', 'tweet_volume': None}, {'name': '#WhyImSingle', 'url': 'http://twitter.com/search?q=%23WhyImSingle', 'promoted_content': None, 'query': '%23WhyImSingle', 'tweet_volume': 92981}, {'name': '#GroKo', 'url': 'http://twitter.com/search?q=%23GroKo', 'promoted_content': None, 'query': '%23GroKo', 'tweet_volume': 54723}], 'as_of': '2018-02-08T10:03:19Z', 'created_at': '2018-02-08T09:57:37Z', 'locations': [{'name': 'Amsterdam', 'woeid': 727232}]}]\n"
     ]
    }
   ],
   "source": [
    "WORLD_WOE_ID = 727232 # WOEID for Amsterdam\n",
    "world_trends = twitter_api.trends.place(_id=WORLD_WOE_ID) # get back a callable\n",
    "print(world_trends)"
   ]
  },
  {
   "cell_type": "markdown",
   "metadata": {},
   "source": [
    "Exercise 2.1: Retrieving search results (from Example 1-5/9-3 in Mining the Social Web):"
   ]
  },
  {
   "cell_type": "code",
   "execution_count": 5,
   "metadata": {},
   "outputs": [
    {
     "name": "stdout",
     "output_type": "stream",
     "text": [
      "{\n",
      " \"created_at\": \"Thu Feb 08 10:02:18 +0000 2018\",\n",
      " \"id\": 961540685714350080,\n",
      " \"id_str\": \"961540685714350080\",\n",
      " \"text\": \"\\u5b89\\u5ba4\\u5948\\u7f8e\\u6075\\u3055\\u3093\\u306e\\u300c a walk in the park\\u300d\\u3092\\u5927\\u71b1\\u5531\\u3057\\u306a\\u304c\\u3089\\u30c6\\u30af\\u30c6\\u30af\\u51fa\\u52e4\\ud83c\\udfa4\\ud83c\\udfe1\\n\\u3053\\u306e\\u66f2\\u805e\\u304f\\u3068\\u4eca\\u65e5\\u3082\\u826f\\u3044\\u3053\\u3068\\u3042\\u308a\\u305d\\u3046\\u306a\\u4e88\\u611f\\u304c\\u3057\\u3066\\u304f\\u308b\\ud83d\\ude0a\\ud83c\\udf08\\ud83c\\udfb6\\n\\u305f\\u3076\\u3093\\u308f\\u305f\\u3057\\u4e16\\u754c\\u4e2d\\u3069\\u3053\\u306b\\u3044\\u3066\\u3082\\u7d0d\\u8c46\\u4f5c\\u308a\\u51fa\\u3059\\u3060\\u308d\\u3046\\u3057\\u4e16\\u754c\\u4e2d\\u3069\\u3053\\u306b\\u3044\\u3066\\u3082\\u5909\\u308f\\u3089\\u306a\\u3044\\u3068\\u2026 https://t.co/5LLDrrVqdl\",\n",
      " \"truncated\": true,\n",
      " \"entities\": {\n",
      "  \"hashtags\": [],\n",
      "  \"symbols\": [],\n",
      "  \"user_mentions\": [],\n",
      "  \"urls\": [\n",
      "   {\n",
      "    \"url\": \"https://t.co/5LLDrrVqdl\",\n",
      "    \"expanded_url\": \"https://twitter.com/i/web/status/961540685714350080\",\n",
      "    \"display_url\": \"twitter.com/i/web/status/9\\u2026\",\n",
      "    \"indices\": [\n",
      "     117,\n",
      "     140\n",
      "    ]\n",
      "   }\n",
      "  ]\n",
      " },\n",
      " \"metadata\": {\n",
      "  \"iso_language_code\": \"ja\",\n",
      "  \"result_type\": \"recent\"\n",
      " },\n",
      " \"source\": \"<a href=\\\"http://twitter.com/download/iphone\\\" rel=\\\"nofollow\\\">Twitter for iPhone</a>\",\n",
      " \"in_reply_to_status_id\": null,\n",
      " \"in_reply_to_status_id_str\": null,\n",
      " \"in_reply_to_user_id\": null,\n",
      " \"in_reply_to_user_id_str\": null,\n",
      " \"in_reply_to_screen_name\": null,\n",
      " \"user\": {\n",
      "  \"id\": 150178422,\n",
      "  \"id_str\": \"150178422\",\n",
      "  \"name\": \"\\u5409\\u6c38\\u5b9f\\u590f\",\n",
      "  \"screen_name\": \"yoshinagamika\",\n",
      "  \"location\": \"\",\n",
      "  \"description\": \"\\u3074\\u3088\\u306b\\u3061\\u306f\\ud83c\\udf37\\u5409\\u6c38\\u5b9f\\u590f\\u3068\\u3044\\u3046\\u3082\\u306e\\u3067\\u3059\\u3002 \\u7d4c\\u6e08\\u3001\\u91ce\\u7403\\u3001\\u97f3\\u697d\\u3001\\u30e9\\u30f3\\u30cb\\u30f3\\u30b0\\u266a\\u2728Amsterdam,Netherland\\u5728\\u4f4f\\u3067\\u3059\\ud83c\\uddf3\\ud83c\\uddf1\\ud83c\\udfe1\",\n",
      "  \"url\": \"https://t.co/7c2Rvyak4A\",\n",
      "  \"entities\": {\n",
      "   \"url\": {\n",
      "    \"urls\": [\n",
      "     {\n",
      "      \"url\": \"https://t.co/7c2Rvyak4A\",\n",
      "      \"expanded_url\": \"http://yaplog.jp/yoshinagamika/\",\n",
      "      \"display_url\": \"yaplog.jp/yoshinagamika/\",\n",
      "      \"indices\": [\n",
      "       0,\n",
      "       23\n",
      "      ]\n",
      "     }\n",
      "    ]\n",
      "   },\n",
      "   \"description\": {\n",
      "    \"urls\": []\n",
      "   }\n",
      "  },\n",
      "  \"protected\": false,\n",
      "  \"followers_count\": 5576,\n",
      "  \"friends_count\": 315,\n",
      "  \"listed_count\": 130,\n",
      "  \"created_at\": \"Mon May 31 08:25:45 +0000 2010\",\n",
      "  \"favourites_count\": 414,\n",
      "  \"utc_offset\": 32400,\n",
      "  \"time_zone\": \"Tokyo\",\n",
      "  \"geo_enabled\": false,\n",
      "  \"verified\": false,\n",
      "  \"statuses_count\": 7572,\n",
      "  \"lang\": \"ja\",\n",
      "  \"contributors_enabled\": false,\n",
      "  \"is_translator\": false,\n",
      "  \"is_translation_enabled\": false,\n",
      "  \"profile_background_color\": \"C0DEED\",\n",
      "  \"profile_background_image_url\": \"http://abs.twimg.com/images/themes/theme1/bg.png\",\n",
      "  \"profile_background_image_url_https\": \"https://abs.twimg.com/images/themes/theme1/bg.png\",\n",
      "  \"profile_background_tile\": false,\n",
      "  \"profile_image_url\": \"http://pbs.twimg.com/profile_images/961367163956318209/AHLZq4j3_normal.jpg\",\n",
      "  \"profile_image_url_https\": \"https://pbs.twimg.com/profile_images/961367163956318209/AHLZq4j3_normal.jpg\",\n",
      "  \"profile_banner_url\": \"https://pbs.twimg.com/profile_banners/150178422/1400024499\",\n",
      "  \"profile_link_color\": \"1DA1F2\",\n",
      "  \"profile_sidebar_border_color\": \"C0DEED\",\n",
      "  \"profile_sidebar_fill_color\": \"DDEEF6\",\n",
      "  \"profile_text_color\": \"333333\",\n",
      "  \"profile_use_background_image\": true,\n",
      "  \"has_extended_profile\": false,\n",
      "  \"default_profile\": true,\n",
      "  \"default_profile_image\": false,\n",
      "  \"following\": false,\n",
      "  \"follow_request_sent\": false,\n",
      "  \"notifications\": false,\n",
      "  \"translator_type\": \"none\"\n",
      " },\n",
      " \"geo\": null,\n",
      " \"coordinates\": null,\n",
      " \"place\": null,\n",
      " \"contributors\": null,\n",
      " \"is_quote_status\": false,\n",
      " \"retweet_count\": 0,\n",
      " \"favorite_count\": 0,\n",
      " \"favorited\": false,\n",
      " \"retweeted\": false,\n",
      " \"possibly_sensitive\": false,\n",
      " \"lang\": \"ja\"\n",
      "}\n"
     ]
    }
   ],
   "source": [
    "q = '#Amsterdam' # XXX: Set this variable to a trending topic, or anything else you like. \n",
    "count = 100 # number of results to retrieve\n",
    "\n",
    "# See https://dev.twitter.com/docs/api/1.1/get/search/tweets for more info\n",
    "\n",
    "search_results = twitter_api.search.tweets(q=q, count=count) # search for your query 'q' 100 times\n",
    "statuses = search_results['statuses'] # extract the tweets found\n",
    "\n",
    "# The following code allows you to print in a nice format the contents of search_results\n",
    "import json\n",
    "print(json.dumps(statuses[0], indent=1))"
   ]
  },
  {
   "cell_type": "markdown",
   "metadata": {},
   "source": [
    "The start of your output should look like something like this:\n",
    "{\n",
    " \"contributors\": null, \n",
    " \"truncated\": false, \n",
    " \"text\": \"RT @JamesMCallaghan: Love her!!!!   RT @Erin_131: #MentionSomeoneImportantForYou My dad\", \n",
    " \"in_reply_to_status_id\": null, \n",
    " \"id\": 425527242413080576, \n",
    " \"favorite_count\": 0, \n",
    " \"source\": \"<a href=\\\"http://twitter.com/download/iphone\\\" rel=\\\"nofollow\\\">Twitter for iPhone</a>\", \n",
    " \"retweeted\": false, \n",
    " \"coordinates\": null, \n",
    " \"entities\": {\n",
    "  \"symbols\": [], \n",
    "   \"user_mentions\": [\n",
    "   {\n",
    "    \"id\": 43795567, \n",
    "    \"indices\": [\n",
    "     3, \n",
    "     19\n",
    "    ], \n",
    "    \"id_str\": \"43795567\", \n",
    "    \"screen_name\": \"JamesMCallaghan\", \n",
    "    \"name\": \"Jim Callaghan\"\n",
    "   }, \n",
    "   {\n",
    "    \"id\": 149373154, \n",
    "    \"indices\": [\n",
    "     39, \n",
    "     48\n",
    "    ], \n",
    "    \"id_str\": \"149373154\", \n",
    "    \"screen_name\": \"Erin_131\", \n",
    "    \"name\": \"Erin Callaghan (:\"\n",
    "   }\n",
    "  ], \n",
    "  \"hashtags\": [\n",
    "   {\n",
    "    \"indices\": [\n",
    "     50, \n",
    "     80\n",
    "    ], \n",
    "    \"text\": \"MentionSomeoneImportantForYou\"\n",
    "   }\n",
    "  ], \n",
    "  \"urls\": []\n",
    " },\n",
    "[...]"
   ]
  },
  {
   "cell_type": "markdown",
   "metadata": {},
   "source": [
    "-------------------------------------------------------------------------------\n",
    "\n",
    "Task 2: Create a second variable (e.g., statuses2) that holds the results of a query other than the query you posed in exercise 2.1. Think about a query that would yield very different results than the first one, for example one that may yield shorter tweets or less diverse tweets. \n",
    "\n",
    "-------------------------------------------------------------------------------\n",
    "\n",
    "Simply printing all the search results to screen is nice, but to really start analysing them, it is handy to select interesting parts from the results and store them in a different structure such as a list. \n",
    "\n",
    "Exercise 3.1: Extracting text, screen names, and hashtags from tweets (from Example 1-6 in Mining the Social Web):\n",
    "\n",
    "In this example you are using a thing called \"List Comprehension\". \n",
    "It is basically a list that consists of lists. In this example, you are creating a variable 'status_texts' of type list. That list will be filled with the 'text' elements from each 'statuses', and 'statuses' comes from looping through all items in the 'search_results' list. \n",
    "Look up the list comprehensions in your Python reference materials to make sure you understand what's happening here. "
   ]
  },
  {
   "cell_type": "code",
   "execution_count": 6,
   "metadata": {},
   "outputs": [
    {
     "name": "stdout",
     "output_type": "stream",
     "text": [
      "{\n",
      " \"created_at\": \"Thu Feb 08 09:15:39 +0000 2018\",\n",
      " \"id\": 961528944536248320,\n",
      " \"id_str\": \"961528944536248320\",\n",
      " \"text\": \"RT @PartijvdDieren: In 2017 vonden op #Schiphol duizenden vliegbewegingen meer plaats dan afgesproken plafond. Dus past ministerie geruislo\\u2026\",\n",
      " \"truncated\": false,\n",
      " \"entities\": {\n",
      "  \"hashtags\": [\n",
      "   {\n",
      "    \"text\": \"Schiphol\",\n",
      "    \"indices\": [\n",
      "     38,\n",
      "     47\n",
      "    ]\n",
      "   }\n",
      "  ],\n",
      "  \"symbols\": [],\n",
      "  \"user_mentions\": [\n",
      "   {\n",
      "    \"screen_name\": \"PartijvdDieren\",\n",
      "    \"name\": \"PvdD\",\n",
      "    \"id\": 20710359,\n",
      "    \"id_str\": \"20710359\",\n",
      "    \"indices\": [\n",
      "     3,\n",
      "     18\n",
      "    ]\n",
      "   }\n",
      "  ],\n",
      "  \"urls\": []\n",
      " },\n",
      " \"metadata\": {\n",
      "  \"iso_language_code\": \"nl\",\n",
      "  \"result_type\": \"recent\"\n",
      " },\n",
      " \"source\": \"<a href=\\\"http://twitter.com/download/iphone\\\" rel=\\\"nofollow\\\">Twitter for iPhone</a>\",\n",
      " \"in_reply_to_status_id\": null,\n",
      " \"in_reply_to_status_id_str\": null,\n",
      " \"in_reply_to_user_id\": null,\n",
      " \"in_reply_to_user_id_str\": null,\n",
      " \"in_reply_to_screen_name\": null,\n",
      " \"user\": {\n",
      "  \"id\": 141097253,\n",
      "  \"id_str\": \"141097253\",\n",
      "  \"name\": \"MarionOord-Garritsen\",\n",
      "  \"screen_name\": \"Dunja2004\",\n",
      "  \"location\": \"Dalfsen\",\n",
      "  \"description\": \"\",\n",
      "  \"url\": null,\n",
      "  \"entities\": {\n",
      "   \"description\": {\n",
      "    \"urls\": []\n",
      "   }\n",
      "  },\n",
      "  \"protected\": false,\n",
      "  \"followers_count\": 99,\n",
      "  \"friends_count\": 158,\n",
      "  \"listed_count\": 0,\n",
      "  \"created_at\": \"Fri May 07 05:16:45 +0000 2010\",\n",
      "  \"favourites_count\": 8009,\n",
      "  \"utc_offset\": 3600,\n",
      "  \"time_zone\": \"Amsterdam\",\n",
      "  \"geo_enabled\": true,\n",
      "  \"verified\": false,\n",
      "  \"statuses_count\": 30037,\n",
      "  \"lang\": \"nl\",\n",
      "  \"contributors_enabled\": false,\n",
      "  \"is_translator\": false,\n",
      "  \"is_translation_enabled\": false,\n",
      "  \"profile_background_color\": \"C0DEED\",\n",
      "  \"profile_background_image_url\": \"http://abs.twimg.com/images/themes/theme1/bg.png\",\n",
      "  \"profile_background_image_url_https\": \"https://abs.twimg.com/images/themes/theme1/bg.png\",\n",
      "  \"profile_background_tile\": false,\n",
      "  \"profile_image_url\": \"http://pbs.twimg.com/profile_images/880104694/Moeders_in_Barcelona_normal.jpg\",\n",
      "  \"profile_image_url_https\": \"https://pbs.twimg.com/profile_images/880104694/Moeders_in_Barcelona_normal.jpg\",\n",
      "  \"profile_banner_url\": \"https://pbs.twimg.com/profile_banners/141097253/1506940626\",\n",
      "  \"profile_link_color\": \"1DA1F2\",\n",
      "  \"profile_sidebar_border_color\": \"C0DEED\",\n",
      "  \"profile_sidebar_fill_color\": \"DDEEF6\",\n",
      "  \"profile_text_color\": \"333333\",\n",
      "  \"profile_use_background_image\": true,\n",
      "  \"has_extended_profile\": false,\n",
      "  \"default_profile\": true,\n",
      "  \"default_profile_image\": false,\n",
      "  \"following\": false,\n",
      "  \"follow_request_sent\": false,\n",
      "  \"notifications\": false,\n",
      "  \"translator_type\": \"none\"\n",
      " },\n",
      " \"geo\": null,\n",
      " \"coordinates\": null,\n",
      " \"place\": null,\n",
      " \"contributors\": null,\n",
      " \"retweeted_status\": {\n",
      "  \"created_at\": \"Wed Feb 07 15:58:19 +0000 2018\",\n",
      "  \"id\": 961267891164405760,\n",
      "  \"id_str\": \"961267891164405760\",\n",
      "  \"text\": \"In 2017 vonden op #Schiphol duizenden vliegbewegingen meer plaats dan afgesproken plafond. Dus past ministerie geru\\u2026 https://t.co/TK1Q6wgMB1\",\n",
      "  \"truncated\": true,\n",
      "  \"entities\": {\n",
      "   \"hashtags\": [\n",
      "    {\n",
      "     \"text\": \"Schiphol\",\n",
      "     \"indices\": [\n",
      "      18,\n",
      "      27\n",
      "     ]\n",
      "    }\n",
      "   ],\n",
      "   \"symbols\": [],\n",
      "   \"user_mentions\": [],\n",
      "   \"urls\": [\n",
      "    {\n",
      "     \"url\": \"https://t.co/TK1Q6wgMB1\",\n",
      "     \"expanded_url\": \"https://twitter.com/i/web/status/961267891164405760\",\n",
      "     \"display_url\": \"twitter.com/i/web/status/9\\u2026\",\n",
      "     \"indices\": [\n",
      "      117,\n",
      "      140\n",
      "     ]\n",
      "    }\n",
      "   ]\n",
      "  },\n",
      "  \"metadata\": {\n",
      "   \"iso_language_code\": \"nl\",\n",
      "   \"result_type\": \"recent\"\n",
      "  },\n",
      "  \"source\": \"<a href=\\\"http://twitter.com\\\" rel=\\\"nofollow\\\">Twitter Web Client</a>\",\n",
      "  \"in_reply_to_status_id\": null,\n",
      "  \"in_reply_to_status_id_str\": null,\n",
      "  \"in_reply_to_user_id\": null,\n",
      "  \"in_reply_to_user_id_str\": null,\n",
      "  \"in_reply_to_screen_name\": null,\n",
      "  \"user\": {\n",
      "   \"id\": 20710359,\n",
      "   \"id_str\": \"20710359\",\n",
      "   \"name\": \"PvdD\",\n",
      "   \"screen_name\": \"PartijvdDieren\",\n",
      "   \"location\": \"Amsterdam\",\n",
      "   \"description\": \"Dit is het offici\\u00eble Twitteraccount van de Partij voor de Dieren. This is the official Twitteraccount of the Party for the Animals.\",\n",
      "   \"url\": \"http://t.co/xraaxibi9n\",\n",
      "   \"entities\": {\n",
      "    \"url\": {\n",
      "     \"urls\": [\n",
      "      {\n",
      "       \"url\": \"http://t.co/xraaxibi9n\",\n",
      "       \"expanded_url\": \"http://www.partijvoordedieren.nl\",\n",
      "       \"display_url\": \"partijvoordedieren.nl\",\n",
      "       \"indices\": [\n",
      "        0,\n",
      "        22\n",
      "       ]\n",
      "      }\n",
      "     ]\n",
      "    },\n",
      "    \"description\": {\n",
      "     \"urls\": []\n",
      "    }\n",
      "   },\n",
      "   \"protected\": false,\n",
      "   \"followers_count\": 35690,\n",
      "   \"friends_count\": 482,\n",
      "   \"listed_count\": 530,\n",
      "   \"created_at\": \"Thu Feb 12 19:50:29 +0000 2009\",\n",
      "   \"favourites_count\": 11240,\n",
      "   \"utc_offset\": 3600,\n",
      "   \"time_zone\": \"Amsterdam\",\n",
      "   \"geo_enabled\": true,\n",
      "   \"verified\": true,\n",
      "   \"statuses_count\": 19245,\n",
      "   \"lang\": \"nl\",\n",
      "   \"contributors_enabled\": false,\n",
      "   \"is_translator\": false,\n",
      "   \"is_translation_enabled\": false,\n",
      "   \"profile_background_color\": \"006B2D\",\n",
      "   \"profile_background_image_url\": \"http://pbs.twimg.com/profile_background_images/460736324975075328/6P1Ct9Ct.jpeg\",\n",
      "   \"profile_background_image_url_https\": \"https://pbs.twimg.com/profile_background_images/460736324975075328/6P1Ct9Ct.jpeg\",\n",
      "   \"profile_background_tile\": false,\n",
      "   \"profile_image_url\": \"http://pbs.twimg.com/profile_images/775600346550956032/7eCZz1g7_normal.jpg\",\n",
      "   \"profile_image_url_https\": \"https://pbs.twimg.com/profile_images/775600346550956032/7eCZz1g7_normal.jpg\",\n",
      "   \"profile_banner_url\": \"https://pbs.twimg.com/profile_banners/20710359/1509466625\",\n",
      "   \"profile_link_color\": \"006B2D\",\n",
      "   \"profile_sidebar_border_color\": \"FFFFFF\",\n",
      "   \"profile_sidebar_fill_color\": \"008E9C\",\n",
      "   \"profile_text_color\": \"000000\",\n",
      "   \"profile_use_background_image\": false,\n",
      "   \"has_extended_profile\": false,\n",
      "   \"default_profile\": false,\n",
      "   \"default_profile_image\": false,\n",
      "   \"following\": false,\n",
      "   \"follow_request_sent\": false,\n",
      "   \"notifications\": false,\n",
      "   \"translator_type\": \"none\"\n",
      "  },\n",
      "  \"geo\": null,\n",
      "  \"coordinates\": null,\n",
      "  \"place\": null,\n",
      "  \"contributors\": null,\n",
      "  \"is_quote_status\": false,\n",
      "  \"retweet_count\": 31,\n",
      "  \"favorite_count\": 51,\n",
      "  \"favorited\": false,\n",
      "  \"retweeted\": false,\n",
      "  \"lang\": \"nl\"\n",
      " },\n",
      " \"is_quote_status\": false,\n",
      " \"retweet_count\": 31,\n",
      " \"favorite_count\": 0,\n",
      " \"favorited\": false,\n",
      " \"retweeted\": false,\n",
      " \"lang\": \"nl\"\n",
      "}\n"
     ]
    }
   ],
   "source": [
    "# Task 2\n",
    "\n",
    "q2 = '#Schiphol' # XXX: Set this variable to a trending topic, or anything else you like. \n",
    "count = 100 # number of results to retrieve\n",
    "\n",
    "# See https://dev.twitter.com/docs/api/1.1/get/search/tweets for more info\n",
    "\n",
    "search_results2 = twitter_api.search.tweets(q=q2, count=count) # search for your query 'q' 100 times\n",
    "statuses2 = search_results2['statuses'] # extract the tweets found\n",
    "\n",
    "# The following code allows you to print in a nice format the contents of search_results\n",
    "import json\n",
    "print(json.dumps(statuses2[2], indent=1))"
   ]
  },
  {
   "cell_type": "code",
   "execution_count": 7,
   "metadata": {},
   "outputs": [
    {
     "name": "stdout",
     "output_type": "stream",
     "text": [
      "[\n",
      " \"\\u5b89\\u5ba4\\u5948\\u7f8e\\u6075\\u3055\\u3093\\u306e\\u300c a walk in the park\\u300d\\u3092\\u5927\\u71b1\\u5531\\u3057\\u306a\\u304c\\u3089\\u30c6\\u30af\\u30c6\\u30af\\u51fa\\u52e4\\ud83c\\udfa4\\ud83c\\udfe1\\n\\u3053\\u306e\\u66f2\\u805e\\u304f\\u3068\\u4eca\\u65e5\\u3082\\u826f\\u3044\\u3053\\u3068\\u3042\\u308a\\u305d\\u3046\\u306a\\u4e88\\u611f\\u304c\\u3057\\u3066\\u304f\\u308b\\ud83d\\ude0a\\ud83c\\udf08\\ud83c\\udfb6\\n\\u305f\\u3076\\u3093\\u308f\\u305f\\u3057\\u4e16\\u754c\\u4e2d\\u3069\\u3053\\u306b\\u3044\\u3066\\u3082\\u7d0d\\u8c46\\u4f5c\\u308a\\u51fa\\u3059\\u3060\\u308d\\u3046\\u3057\\u4e16\\u754c\\u4e2d\\u3069\\u3053\\u306b\\u3044\\u3066\\u3082\\u5909\\u308f\\u3089\\u306a\\u3044\\u3068\\u2026 https://t.co/5LLDrrVqdl\",\n",
      " \"#miguna on arrival in #amsterdam &amp; #canada https://t.co/HxP9Hnt2nL\",\n",
      " \"#Philips Leadership Summit. 1 event,, 3 landen, 4 locaties:\\n\\n- #Eindhoven\\n- #Amsterdam\\n- #Shanghai (China)\\n-\\u2026 https://t.co/8517Ee2yt9\",\n",
      " \"\\u2b50\\u2b50\\u2b50\\u2b50\\u2b50 Until the end Van Gogh painted in spite of his illness, not because of it.\\nhttps://t.co/kZlQjHk5bq \\n#vangogh #art #Amsterdam\",\n",
      " \"#TBT especial, em v\\u00eddeo!\\n#Amsterdam #Amsterd\\u00e3 #Nederlands #Netherlands #Pa\\u00edsesBaixos #Holanda\\u2026 https://t.co/REUUQIC3Sl\"\n",
      "]\n",
      "[\n",
      " \"ZOKULive\",\n",
      " \"MiguelCalabria3\",\n",
      " \"ISE_Show\",\n",
      " \"Intevi_Ltd\",\n",
      " \"PhilipsDisplays\"\n",
      "]\n",
      "[\n",
      " \"miguna\",\n",
      " \"amsterdam\",\n",
      " \"canada\",\n",
      " \"Philips\",\n",
      " \"Eindhoven\"\n",
      "]\n",
      "[\n",
      " \"\\u5b89\\u5ba4\\u5948\\u7f8e\\u6075\\u3055\\u3093\\u306e\\u300c\",\n",
      " \"a\",\n",
      " \"walk\",\n",
      " \"in\",\n",
      " \"the\"\n",
      "]\n"
     ]
    }
   ],
   "source": [
    "status_texts = [ status['text']\n",
    "    for status in statuses ]\n",
    "\n",
    "screen_names = [ user_mention['screen_name']\n",
    "    for status in statuses\n",
    "        for user_mention in status['entities']['user_mentions'] ]\n",
    "\n",
    "hashtags = [ hashtag['text']\n",
    "    for status in statuses\n",
    "        for hashtag in status['entities']['hashtags'] ]\n",
    "\n",
    "# Compute a collection of all words from all tweets\n",
    "words = [ w\n",
    "    for t in status_texts\n",
    "        for w in t.split() ] #split the string on the empty spaces\n",
    "\n",
    "# Explore the first 5 items for each...\n",
    "print(json.dumps(status_texts[0:5], indent=1))\n",
    "print(json.dumps(screen_names[0:5], indent=1))\n",
    "print(json.dumps(hashtags[0:5], indent=1))\n",
    "print(json.dumps(words[0:5], indent=1))"
   ]
  },
  {
   "cell_type": "markdown",
   "metadata": {},
   "source": [
    "-------------------------------------------------------------------------------\n",
    "\n",
    "Task 3: Also carry out this exercise for the results you obtained in Task 2. Please remember to not overwrite the variables that you just assigned. \n",
    "\n",
    "-------------------------------------------------------------------------------\n",
    "\n",
    "\n",
    "Exercise 3.2: Creating a basic frequency distribution from the words in tweets (from Example 1-7 in Mining the Social Web):"
   ]
  },
  {
   "cell_type": "code",
   "execution_count": 8,
   "metadata": {},
   "outputs": [
    {
     "name": "stdout",
     "output_type": "stream",
     "text": [
      "[\n",
      " \"@_LizMain @RdamKlimaat @Fossielvrij030 @adriaanvisser @VVDRotterdam Waarschijnlijk met gescheiden afvalinzameling,\\u2026 https://t.co/nQMtmb77Os\",\n",
      " \"#TravelDiaries\\n#LiveLifeLoveLife\\ud83d\\udc99\\ud83d\\ude4f #Airport #Planes #KLM #RoyalDutchAirlines #Travel #Fly #Amsterdam #Schiphol\\u2026 https://t.co/Aw089Be0dQ\",\n",
      " \"RT @PartijvdDieren: In 2017 vonden op #Schiphol duizenden vliegbewegingen meer plaats dan afgesproken plafond. Dus past ministerie geruislo\\u2026\",\n",
      " \"RT @PartijvdDieren: In 2017 vonden op #Schiphol duizenden vliegbewegingen meer plaats dan afgesproken plafond. Dus past ministerie geruislo\\u2026\",\n",
      " \"Gezellige #rolstoel file op #Schiphol https://t.co/5E494jO4r0\"\n",
      "]\n",
      "[\n",
      " \"_LizMain\",\n",
      " \"RdamKlimaat\",\n",
      " \"Fossielvrij030\",\n",
      " \"adriaanvisser\",\n",
      " \"VVDRotterdam\"\n",
      "]\n",
      "[\n",
      " \"TravelDiaries\",\n",
      " \"LiveLifeLoveLife\",\n",
      " \"Airport\",\n",
      " \"Planes\",\n",
      " \"KLM\"\n",
      "]\n",
      "[\n",
      " \"@_LizMain\",\n",
      " \"@RdamKlimaat\",\n",
      " \"@Fossielvrij030\",\n",
      " \"@adriaanvisser\",\n",
      " \"@VVDRotterdam\"\n",
      "]\n"
     ]
    }
   ],
   "source": [
    "# Task 3\n",
    "\n",
    "status_texts2 = [ status['text']\n",
    "    for status in statuses2 ]\n",
    "\n",
    "screen_names2 = [ user_mention['screen_name']\n",
    "    for status in statuses2\n",
    "        for user_mention in status['entities']['user_mentions'] ]\n",
    "\n",
    "hashtags2 = [ hashtag['text']\n",
    "    for status in statuses2\n",
    "        for hashtag in status['entities']['hashtags'] ]\n",
    "\n",
    "# Compute a collection of all words from all tweets\n",
    "words2 = [ w\n",
    "    for t in status_texts2\n",
    "        for w in t.split() ] #split the string on the empty spaces\n",
    "\n",
    "# Explore the first 5 items for each...\n",
    "print(json.dumps(status_texts2[0:5], indent=1))\n",
    "print(json.dumps(screen_names2[0:5], indent=1))\n",
    "print(json.dumps(hashtags2[0:5], indent=1))\n",
    "print(json.dumps(words2[0:5], indent=1))"
   ]
  },
  {
   "cell_type": "code",
   "execution_count": 9,
   "metadata": {},
   "outputs": [
    {
     "name": "stdout",
     "output_type": "stream",
     "text": [
      "[('Amsterdam', 52), ('amsterdam', 16), ('vacature', 8), ('ict', 6), ('Dublin', 3), ('Frankfurt', 3), ('Paris', 3), ('canada', 2), ('Philips', 2), ('Netherlands', 2)]\n"
     ]
    }
   ],
   "source": [
    "from collections import Counter\n",
    "for item in [words, screen_names, hashtags]:\n",
    "    c = Counter(item)\n",
    "\n",
    "print(c.most_common()[:10]) # top 10"
   ]
  },
  {
   "cell_type": "code",
   "execution_count": 10,
   "metadata": {},
   "outputs": [
    {
     "name": "stdout",
     "output_type": "stream",
     "text": [
      "[('Schiphol', 84), ('schiphol', 12), ('advertorial', 10), ('Lelystad', 7), ('Maastricht', 7), ('Amsterdam', 3), ('rolstoel', 3), ('veiligheid', 3), ('Leiden', 3), ('lelystadairport', 3)]\n"
     ]
    }
   ],
   "source": [
    "# Task 4\n",
    "\n",
    "for item in [words2, screen_names2, hashtags2]:\n",
    "    c = Counter(item)\n",
    "\n",
    "print(c.most_common()[:10]) # top 10"
   ]
  },
  {
   "cell_type": "markdown",
   "metadata": {},
   "source": [
    "Your output should look like this:\n",
    "[(u'MentionSomeoneImportantForYou', 97), (u'mentionsomeoneimportantforyou', 1), (u'Perfection', 1)]\n",
    "\n",
    "-------------------------------------------------------------------------------\n",
    "\n",
    "Task 4: Also carry out this exercise for the second query that you posed in Task 2. Think about possible explanations for the different results you get from the analyses for the different queries.  \n",
    "\n",
    "-------------------------------------------------------------------------------\n",
    "\n",
    "\n",
    "So far, we have been storing the data in working memory. Often it's handy to store your data more permanently so you can also return to it in a next session. \n",
    "\n",
    "The cPickle module lets you write data to a file in a format that is easily imported again later. \n",
    "\n",
    "Exercise 4: Storing data for later use:"
   ]
  },
  {
   "cell_type": "code",
   "execution_count": 11,
   "metadata": {},
   "outputs": [],
   "source": [
    "import _pickle\n",
    "f = open(\"myData.pickle\", \"wb\") # create a file handle for writing (w) in binary mode (b) named myData.pickle, \n",
    "_pickle.dump(words, f) # write the contents of list 'words' to file 'f'\n",
    "f.close() #  clean up after yourself"
   ]
  },
  {
   "cell_type": "markdown",
   "metadata": {},
   "source": [
    "If you browse to your working directory, you should find a file there named \"myData.pickle\". You can open this in a text editor, or load its contents back into a variable to do some more analyses on. "
   ]
  },
  {
   "cell_type": "code",
   "execution_count": 12,
   "metadata": {},
   "outputs": [],
   "source": [
    "words = _pickle.load(open(\"myData.pickle\", \"rb\")) # open the myData.pickle file and store its contents into variable 'words' "
   ]
  },
  {
   "cell_type": "markdown",
   "metadata": {},
   "source": [
    "Exercise 5: Using prettytable to display tuples in a nice tabular format (from Example 1-8 in Mining the Social Web):"
   ]
  },
  {
   "cell_type": "code",
   "execution_count": 13,
   "metadata": {},
   "outputs": [
    {
     "name": "stdout",
     "output_type": "stream",
     "text": [
      "+------------+-------+\n",
      "| Word       | Count |\n",
      "+------------+-------+\n",
      "| #Amsterdam |    46 |\n",
      "| in         |    41 |\n",
      "| the        |    29 |\n",
      "| RT         |    19 |\n",
      "| to         |    17 |\n",
      "| #amsterdam |    15 |\n",
      "| -          |    11 |\n",
      "| from       |    11 |\n",
      "| en         |    10 |\n",
      "| een        |    10 |\n",
      "+------------+-------+\n",
      "+-----------------+-------+\n",
      "| Screen Name     | Count |\n",
      "+-----------------+-------+\n",
      "| Amsterdamexplor |     4 |\n",
      "| ise2018         |     3 |\n",
      "| XtremeMediaIn   |     3 |\n",
      "| Lucian_Cernat   |     3 |\n",
      "| ISE_Show        |     2 |\n",
      "| ZOKULive        |     1 |\n",
      "| MiguelCalabria3 |     1 |\n",
      "| Intevi_Ltd      |     1 |\n",
      "| PhilipsDisplays |     1 |\n",
      "| Wim_strictly    |     1 |\n",
      "+-----------------+-------+\n",
      "+-------------+-------+\n",
      "| Hashtag     | Count |\n",
      "+-------------+-------+\n",
      "| Amsterdam   |    52 |\n",
      "| amsterdam   |    16 |\n",
      "| vacature    |     8 |\n",
      "| ict         |     6 |\n",
      "| Dublin      |     3 |\n",
      "| Frankfurt   |     3 |\n",
      "| Paris       |     3 |\n",
      "| canada      |     2 |\n",
      "| Philips     |     2 |\n",
      "| Netherlands |     2 |\n",
      "+-------------+-------+\n"
     ]
    }
   ],
   "source": [
    "from prettytable import PrettyTable\n",
    "for label, data in (('Word', words),\n",
    "        ('Screen Name', screen_names),\n",
    "        ('Hashtag', hashtags)):\n",
    "    pt = PrettyTable(field_names=[label, 'Count'])\n",
    "    c = Counter(data)\n",
    "    [ pt.add_row(kv) for kv in c.most_common()[:10] ]\n",
    "    pt.align[label], pt.align['Count'] = 'l', 'r' # Set column alignment\n",
    "    print(pt)"
   ]
  },
  {
   "cell_type": "markdown",
   "metadata": {},
   "source": [
    "Your output should look like this:\n",
    "\n",
    " Word                           | Count \n",
    "--------------------------------|-------\n",
    " #MentionSomeoneImportantForYou |    97 \n",
    " RT                             |    78 \n",
    " @_CollegeHumor_:               |    61 \n",
    " vodka                          |    61 \n",
    " “@_CollegeHumor_:              |    13 \n",
    " vodka”                         |    12 \n",
    " ♥                              |     7 \n",
    "@DinaHeshamAlii:               |     4 \n",
    " 😂😂😂                        |     3 \n",
    " \"@_CollegeHumor_:              |     3 \n",
    "--------------------------------|-------\n",
    "\n",
    "\n",
    "\n",
    "Exercise 6: Calculating lexical diversity for tweets (from Example 1-9 in Mining the Social Web):"
   ]
  },
  {
   "cell_type": "code",
   "execution_count": 14,
   "metadata": {},
   "outputs": [
    {
     "name": "stdout",
     "output_type": "stream",
     "text": [
      "0.6162613981762918\n",
      "0.803921568627451\n",
      "0.5766129032258065\n",
      "14.786516853932584\n"
     ]
    }
   ],
   "source": [
    "# Define a function for computing lexical diversity\n",
    "def lexical_diversity(tokens): # This is the way to declare user defined functions\n",
    "    return 1.0*len(set(tokens))/len(tokens)\n",
    "\n",
    "# Define a function for computing the average number of words per tweet\n",
    "def average_words(statuses):\n",
    "    total_words = sum([ len(s.split()) for s in statuses ])\n",
    "    return 1.0*total_words/len(statuses) # Prior to Python 3.0, the division operator (/) applies the floor function and returns an integer value (unless one of the operands is a floating-point value). Multiply either the numerator or the denominator by 1.0 to avoid truncation errors.\n",
    "\n",
    "# Let's use these functions:\n",
    "\n",
    "print(lexical_diversity(words))\n",
    "print(lexical_diversity(screen_names))\n",
    "print(lexical_diversity(hashtags))\n",
    "print(average_words(status_texts))"
   ]
  },
  {
   "cell_type": "markdown",
   "metadata": {},
   "source": [
    "-------------------------------------------------------------------------------\n",
    "\n",
    "Task 5: What do the printed numbers indicate? Try to explain them.\n",
    "\n",
    "Answer: A slightly more advanced measurement that involves calculating simple frequencies and can be applied to unstructured text is a metric called lexical diversity. Mathematically, this is an expression of the number of unique tokens in the text divided by the total number of tokens in the text, which are both elementary yet important metrics in and of themselves.\n",
    "\n",
    "-------------------------------------------------------------------------------\n",
    "\n",
    "Exercise 7: Finding the most popular retweets (from Example 1-10 in Mining the Social Web):"
   ]
  },
  {
   "cell_type": "code",
   "execution_count": 15,
   "metadata": {},
   "outputs": [
    {
     "name": "stdout",
     "output_type": "stream",
     "text": [
      "+-------+---------------+----------------------------------------------------+\n",
      "| Count | Screen Name   | Text                                               |\n",
      "+-------+---------------+----------------------------------------------------+\n",
      "| 29    | ROGERSALUCCI  | RT @MiguelCalabria3: Vincent van Gogh...           |\n",
      "|       |               | \"Mujer cosiendo\" 1882                              |\n",
      "|       |               | Scheveningen (La Haya) Holanda.                    |\n",
      "|       |               | Van Gogh Museum de #Amsterdam....                  |\n",
      "|       |               | #pintura…                                          |\n",
      "| 28    | Bampson       | RT @duttypaul: RRR!!! #amsterdam RECAP!!!          |\n",
      "|       |               | @shenseea20 @Bampson @brandnewmachine @ROMEICHWEAR |\n",
      "|       |               | @ChiChingChingJA @CopperShaun @farenizzi #MADP…    |\n",
      "| 13    | CasparvdWalle | RT @Ventos: Aan de sfeer lag het gisteren niet!    |\n",
      "|       |               | #AjaPsg #YouthLeague #Ajax #Amsterdam #WijZijnAjax |\n",
      "|       |               | #NoPyroNoParty https://t.co/eOxxIQalyI             |\n",
      "| 8     | Nada_Incluido | RT @martineznotte: Un paseo alucinógeno por        |\n",
      "|       |               | Ámsterdam https://t.co/jkRbrM03nI #curiosidades    |\n",
      "|       |               | #holanda #quécurioso #amsterdam #cannabis          |\n",
      "| 6     | Mjudana       | RT @BlkHistStudies: Looking forward to attending   |\n",
      "|       |               | #KetiKotiFestival in #Amsterdam on our             |\n",
      "|       |               | #BlackAmsterdamTour in June. 'Keti Koti Festival'  |\n",
      "|       |               | c…                                                 |\n",
      "+-------+---------------+----------------------------------------------------+\n"
     ]
    }
   ],
   "source": [
    "retweets = [(status['retweet_count'],\n",
    "    status['user']['screen_name'],\n",
    "    status['text'])# Store out a tuple of these three values\n",
    "    for status in statuses # for each status\n",
    "    ]\n",
    "\n",
    "# Slice off the first 5 from the sorted results and display each item in the tuple\n",
    "pt = PrettyTable(field_names=['Count', 'Screen Name', 'Text'])\n",
    "[ pt.add_row(row) for row in sorted(retweets, reverse=True)[:5] ]\n",
    "pt.max_width['Text'] = 50\n",
    "pt.align= 'l'\n",
    "print(pt)"
   ]
  },
  {
   "cell_type": "markdown",
   "metadata": {},
   "source": [
    "Your output should look like this:\n",
    "    \n",
    " Count | Screen Name    | Text                                               \n",
    "-------|----------------|----------------------------------------------------\n",
    " 82    | _CollegeHumor_ | RT @_CollegeHumor_: #MentionSomeoneImportantForYou \n",
    "       |                | vodka                                              \n",
    " 82    | _CollegeHumor_ | RT @_CollegeHumor_: #MentionSomeoneImportantForYou \n",
    "       |                | vodka                                              \n",
    " 82    | _CollegeHumor_ | RT @_CollegeHumor_: #MentionSomeoneImportantForYou \n",
    "       |                | vodka                                              \n",
    " 82    | _CollegeHumor_ | RT @_CollegeHumor_: #MentionSomeoneImportantForYou \n",
    "       |                | vodka                                              \n",
    " 82    | _CollegeHumor_ | RT @_CollegeHumor_: #MentionSomeoneImportantForYou \n",
    "       |                | vodka                                              \n",
    "\n",
    "*******************************\n",
    "\n",
    "Exercise 8: Looking up users who have retweeted a status (from Example 1-11 in Mining the Social Web):"
   ]
  },
  {
   "cell_type": "code",
   "execution_count": 16,
   "metadata": {},
   "outputs": [
    {
     "name": "stdout",
     "output_type": "stream",
     "text": [
      "['discourze', 'ojala_jyri', 'TheSeunOwolabi', 'blzfda']\n"
     ]
    }
   ],
   "source": [
    "_retweets = twitter_api.statuses.retweets(id=960885846567251969) # Get the original tweet id for a tweet from its retweeted_status node and insert it here\n",
    "print([r['user']['screen_name'] for r in _retweets])"
   ]
  },
  {
   "cell_type": "markdown",
   "metadata": {},
   "source": [
    "-------------------------------------------------------------------------------\n",
    "Task 6 (For experienced users):\n",
    "If you have a Twitter account with a nontrivial number of tweets, request your historical tweet archive from your account settings and analyze it. The export of your account data includes files organized by time period in a convenient JSON\n",
    "format. See the README.txt file included in the downloaded archive for more details. \n",
    "What are the most common terms that appear in your tweets? \n",
    "Who do you  retweet the most often? \n",
    "How many of your tweets are retweeted (and why do you think this is the case)?\n",
    "****************\n",
    "\n",
    "\n",
    "\n",
    "In the previous exercises we have been looking at the text from the tweets, but when you retrieved the results, you retrieved much more information about the tweets, such as the username of the person who shared this tweet with the world. You can use this information to find out who retweets whom in our examples. \n",
    "\n",
    "Exercise 9.1: Plotting frequencies of words (from Example 1-12 in Mining the Social Web):"
   ]
  },
  {
   "cell_type": "code",
   "execution_count": 21,
   "metadata": {},
   "outputs": [
    {
     "data": {
      "image/png": "[encoded data removed]",
      "text/plain": [
       "<matplotlib.figure.Figure at 0x1da59bab940>"
      ]
     },
     "metadata": {},
     "output_type": "display_data"
    }
   ],
   "source": [
    "word_counts = sorted(Counter(words).values(), reverse=True)\n",
    "import matplotlib.pyplot as plt\n",
    "plt.loglog(word_counts)\n",
    "plt.ylabel(\"Freq\")\n",
    "plt.xlabel(\"Word Rank\")\n",
    "plt.show()"
   ]
  },
  {
   "cell_type": "markdown",
   "metadata": {},
   "source": [
    "Exercise 9.2: Generating histograms of words, screen names, and hashtags (from Example 1-13 in Mining the Social Web):"
   ]
  },
  {
   "cell_type": "code",
   "execution_count": 18,
   "metadata": {},
   "outputs": [
    {
     "data": {
      "image/png": "[encoded data removed]",
      "text/plain": [
       "<matplotlib.figure.Figure at 0x1da59a815f8>"
      ]
     },
     "metadata": {},
     "output_type": "display_data"
    }
   ],
   "source": [
    "for label, data in (('Words', words), # Build a frequency map for each set of data\n",
    "    ('Screen Names', screen_names),\n",
    "        ('Hashtags', hashtags)):\n",
    "            c = Counter(data)\n",
    "\n",
    "# plot the values\n",
    "plt.hist(c.values())\n",
    "\n",
    "# Add a title and y-label ...\n",
    "plt.title(label)\n",
    "plt.ylabel(\"Number of items in bin\")\n",
    "plt.xlabel(\"Bins (number of times an item appeared)\")\n",
    "plt.show()"
   ]
  },
  {
   "cell_type": "markdown",
   "metadata": {},
   "source": [
    "Exercise 9.3: Generating a histogram of retweet counts (from Example 1-14 in Mining the Social Web):\n",
    "NB: Using underscores while unpacking values in a tuple is idiomatic for discarding them"
   ]
  },
  {
   "cell_type": "code",
   "execution_count": 20,
   "metadata": {},
   "outputs": [
    {
     "name": "stdout",
     "output_type": "stream",
     "text": [
      "[0, 0, 0, 0, 0, 0, 0, 0, 0, 0, 0, 0, 0, 0, 29, 0, 2, 0, 0, 1, 6, 0, 0, 1, 0, 3, 0, 0, 3, 0, 0, 0, 3, 0, 0, 0, 0, 3, 3, 1, 0, 0, 0, 0, 0, 1, 2, 4, 13, 1, 0, 0, 0, 1, 0, 0, 0, 4, 0, 0, 0, 0, 0, 0, 0, 0, 0, 0, 1, 0, 0, 0, 1, 1, 0, 0, 8, 0, 28, 0, 4, 0, 0, 2, 0, 0, 1, 0, 0]\n"
     ]
    },
    {
     "data": {
      "image/png": "[encoded data removed]",
      "text/plain": [
       "<matplotlib.figure.Figure at 0x1da59a9a048>"
      ]
     },
     "metadata": {},
     "output_type": "display_data"
    }
   ],
   "source": [
    "counts = [count for count, _, _ in retweets]\n",
    "plt.hist(counts)\n",
    "plt.title(\"Retweets\")\n",
    "plt.xlabel('Bins (number of times retweeted)')\n",
    "plt.ylabel('Number of tweets in bin')\n",
    "print(counts)\n",
    "plt.show()"
   ]
  }
 ],
 "metadata": {
  "kernelspec": {
   "display_name": "Python 3",
   "language": "python",
   "name": "python3"
  },
  "language_info": {
   "codemirror_mode": {
    "name": "ipython",
    "version": 3
   },
   "file_extension": ".py",
   "mimetype": "text/x-python",
   "name": "python",
   "nbconvert_exporter": "python",
   "pygments_lexer": "ipython3",
   "version": "3.6.4"
  }
 },
 "nbformat": 4,
 "nbformat_minor": 1
}
